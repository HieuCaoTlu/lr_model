{
 "cells": [
  {
   "cell_type": "markdown",
   "id": "454ac7b4",
   "metadata": {},
   "source": [
    "## Cài đặt các thư viện cần thiết"
   ]
  },
  {
   "cell_type": "markdown",
   "id": "f0d20203",
   "metadata": {},
   "source": [
    "1. Vui lòng sử dụng Jupyter Notebook bằng Anaconda để tối ưu hóa hiệu suất của file này.\n",
    "2. Nếu môi trường của bạn không có sẵn package imblearn, vui lòng gõ thêm lệnh này ở cell mới để cài đặt\n",
    "\n",
    "__`pip install imblearn`__"
   ]
  },
  {
   "cell_type": "code",
   "execution_count": 1,
   "id": "aeeccd9b",
   "metadata": {},
   "outputs": [],
   "source": [
    "import pickle\n",
    "import pandas as pd\n",
    "from datetime import date\n",
    "from sklearn import metrics\n",
    "from sklearn.metrics import classification_report\n",
    "from sklearn.model_selection import train_test_split\n",
    "from sklearn.model_selection import cross_val_score\n",
    "from imblearn.under_sampling import RandomUnderSampler\n",
    "from sklearn.metrics import accuracy_score, precision_score, recall_score, confusion_matrix\n",
    "from sklearn.linear_model import LogisticRegression\n",
    "import matplotlib.pyplot as plt"
   ]
  },
  {
   "cell_type": "markdown",
   "id": "8a76f65b",
   "metadata": {},
   "source": [
    "## Nhập dữ liệu từ file."
   ]
  },
  {
   "cell_type": "markdown",
   "id": "904c9f55",
   "metadata": {},
   "source": [
    "1. Nếu bạn chưa có sẵn tập dữ liệu này, vui lòng tải nó tại đây: \n",
    "    https://www.kaggle.com/datasets/wordsforthewise/lending-club/data\n",
    "\n",
    "2. Vui lòng đặt file jupyter này và file csv của tập dữ liệu chung một địa chỉ thư mục"
   ]
  },
  {
   "cell_type": "code",
   "execution_count": 2,
   "id": "b62bfaa6",
   "metadata": {},
   "outputs": [],
   "source": [
    "acp = pd.read_csv('accepted_2007_to_2018Q4.csv', low_memory = False)"
   ]
  },
  {
   "cell_type": "markdown",
   "id": "66086be3",
   "metadata": {},
   "source": [
    "## Chuẩn bị dữ liệu"
   ]
  },
  {
   "cell_type": "markdown",
   "id": "73764022",
   "metadata": {},
   "source": [
    "1. Tạo một bản sao chép với tập dữ liệu gốc.\n",
    "2. Chuyển đổi thuộc tính __`issue_d`__ (Thời gian bắt đầu được nhận tiền vay) để phân hoạch thời gian\n",
    "\n",
    "Lưu ý: Phiên bản mới của datetime đang gặp lỗi khi convert dữ liệu. Để mô hình chạy đúng nhất, vui lòng downgrade xuống phiên bản 1.7"
   ]
  },
  {
   "cell_type": "code",
   "execution_count": 3,
   "id": "a11863da",
   "metadata": {},
   "outputs": [],
   "source": [
    "sample = acp.copy() \n",
    "sample.issue_d = pd.to_datetime(sample.issue_d)"
   ]
  },
  {
   "cell_type": "markdown",
   "id": "44ed665e",
   "metadata": {},
   "source": [
    "3. Chỉ lấy các hồ sơ được đồng ý cho vay từ 1.1.2015 đến 31.12.2018\n",
    "4. Chỉ lấy các hồ sơ của khách hàng đã hết kì hạn vay"
   ]
  },
  {
   "cell_type": "code",
   "execution_count": 4,
   "id": "38565699",
   "metadata": {},
   "outputs": [
    {
     "data": {
      "text/plain": [
       "(927931, 151)"
      ]
     },
     "execution_count": 4,
     "metadata": {},
     "output_type": "execute_result"
    }
   ],
   "source": [
    "sample = sample[(sample.issue_d >= pd.to_datetime(date(2015,1,1))) & (sample.issue_d <= pd.to_datetime(date(2018,12,31)))]\n",
    "sample = sample[sample.loan_status != 'Current']\n",
    "sample.shape"
   ]
  },
  {
   "cell_type": "markdown",
   "id": "334bba0b",
   "metadata": {},
   "source": [
    "5. Trước khi xây dựng mô hình, loại bỏ toàn bộ các biến CHEAT, biến RỖNG. Ta sẽ chỉ lấy các biến độc lập cần thiết sau đây:\n",
    "- __`Loan_amnt`__: số tiền cho vay\n",
    "- __`Term`__: kì hạn vay\n",
    "- __`Int_rate`__: lãi suất kì hạn\n",
    "- __`Dti`__: tỉ lệ nợ trên thu nhập\n",
    "- __`Loan_status`__: tình trạng khoản vay (không thể trả và đã trả được)\n",
    "- __`Pub_rec`__: số lượng hồ sơ công khai (tín dụng xấu, khởi kiện)\n",
    "- __`Application_type`__: bên vay (cá nhân/ tập thể)\n",
    "- __`fico_range_low`__:  điểm tín dụng cao nhất của người vay\n",
    "- __`fico_range_high`__: điểm tín dụng thấp nhất của người vay\n",
    "\n",
    "Từ hai biến fico, chúng ta có thể tính trung bình ra điểm tín dụng FICO trung bình của đối tượng"
   ]
  },
  {
   "cell_type": "code",
   "execution_count": 5,
   "id": "eec21343",
   "metadata": {},
   "outputs": [],
   "source": [
    "sample = sample[['loan_amnt', 'term', 'int_rate', 'dti', 'loan_status', \n",
    "                 'pub_rec', 'application_type','fico_range_low','fico_range_high',]] \n",
    "\n",
    "sample['FICOscore'] = (sample['fico_range_low'] + sample['fico_range_high']) / 2"
   ]
  },
  {
   "cell_type": "markdown",
   "id": "9bc652d2",
   "metadata": {},
   "source": [
    "6. Ta đặt một biến phụ thuộc là __'Valid'__. Tình trạng khoản vay là \"Đã Trả\" sẽ đặt __'Valid'__ thành 1, còn lại thành 0"
   ]
  },
  {
   "cell_type": "code",
   "execution_count": 6,
   "id": "699741be",
   "metadata": {},
   "outputs": [],
   "source": [
    "sample['valid'] = 0\n",
    "sample.loc[sample.loan_status == 'Fully Paid', 'valid'] = 1 \n",
    "sample.loc[sample.loan_status == 'Late (16-30 days)', 'valid'] = 1\n",
    "sample.loc[sample.loan_status == 'In Grace Period', 'valid'] = 1"
   ]
  },
  {
   "cell_type": "markdown",
   "id": "12cb9ee5",
   "metadata": {},
   "source": [
    "7. Do 2 biến __'Application_type'__ và __'Term'__ là biến định tính. Nên chúng ta sẽ phải One-hot encoding chúng thành các bảng riêng biệt"
   ]
  },
  {
   "cell_type": "code",
   "execution_count": 7,
   "id": "9f107cd4",
   "metadata": {},
   "outputs": [],
   "source": [
    "sample = pd.get_dummies(sample, columns = ['term'])\n",
    "sample = pd.get_dummies(sample, columns = ['application_type'])"
   ]
  },
  {
   "cell_type": "markdown",
   "id": "3510028e",
   "metadata": {},
   "source": [
    "8. Sử dụng lệnh kiểm tra, có thể thấy một vài ô của cột __`dti`__ vẫn đang bị trống. Do con số rất nhỏ so với tập dữ liệu nên ta sẽ bỏ qua chúng."
   ]
  },
  {
   "cell_type": "code",
   "execution_count": 8,
   "id": "0bfec4b4",
   "metadata": {},
   "outputs": [
    {
     "data": {
      "text/plain": [
       "loan_amnt                        0\n",
       "int_rate                         0\n",
       "dti                            412\n",
       "loan_status                      0\n",
       "pub_rec                          0\n",
       "fico_range_low                   0\n",
       "fico_range_high                  0\n",
       "FICOscore                        0\n",
       "valid                            0\n",
       "term_ 36 months                  0\n",
       "term_ 60 months                  0\n",
       "application_type_Individual      0\n",
       "application_type_Joint App       0\n",
       "dtype: int64"
      ]
     },
     "execution_count": 8,
     "metadata": {},
     "output_type": "execute_result"
    }
   ],
   "source": [
    "sample.isna().sum()"
   ]
  },
  {
   "cell_type": "code",
   "execution_count": 9,
   "id": "5bc5ed17",
   "metadata": {},
   "outputs": [],
   "source": [
    "sample = sample[~sample.dti.isna()]"
   ]
  },
  {
   "cell_type": "markdown",
   "id": "2606bb83",
   "metadata": {},
   "source": [
    "9. Loại bỏ các cột không cần thiết còn lại trước khi huấn luyện mô hình"
   ]
  },
  {
   "cell_type": "code",
   "execution_count": 10,
   "id": "b699f743",
   "metadata": {},
   "outputs": [],
   "source": [
    "sample = sample.drop(columns=['loan_status','fico_range_high','fico_range_low'], axis = 1)"
   ]
  },
  {
   "cell_type": "markdown",
   "id": "787b4d66",
   "metadata": {},
   "source": [
    "## Huấn luyện mô hình"
   ]
  },
  {
   "cell_type": "markdown",
   "id": "d8693e68",
   "metadata": {},
   "source": [
    "1. Tạo biến để áp vào mô hình. Sử dụng StandardScaler để chuẩn hóa dữ liệu tập train.\n",
    "- Ta nhận thấy sự phân phối của khách hàng __'Valid = 1'__ \"Trả được nợ\" nhiều hơn hẳn so với khách hàng __'Valid = 0'__ \"Chưa trả được nợ\""
   ]
  },
  {
   "cell_type": "code",
   "execution_count": 11,
   "id": "961eb4c6",
   "metadata": {},
   "outputs": [],
   "source": [
    "x = sample.drop(columns=['valid'], axis = 1)\n",
    "y = sample['valid']"
   ]
  },
  {
   "cell_type": "code",
   "execution_count": 12,
   "id": "902070a3",
   "metadata": {},
   "outputs": [
    {
     "data": {
      "image/png": "[encoded data removed]",
      "text/plain": [
       "<Figure size 1000x500 with 1 Axes>"
      ]
     },
     "metadata": {},
     "output_type": "display_data"
    }
   ],
   "source": [
    "temp = sample.valid.value_counts()\n",
    "values = [temp.loc[0], temp.loc[1]]\n",
    "labels = [\"Không trả được nợ\", \"Trả được nợ\"]\n",
    "\n",
    "plt.figure(figsize=(10,5))\n",
    "plt.pie(values, colors=[\"gold\", \"royalblue\"],autopct='%1.0f%%', pctdistance=0.5)\n",
    "plt.legend(labels)\n",
    "plt.title(\"Biểu đồ phân phối các loại khách hàng đã vay\")\n",
    "plt.show()"
   ]
  },
  {
   "cell_type": "markdown",
   "id": "0f10a3a0",
   "metadata": {},
   "source": [
    "2. Điều chỉnh lại tỉ lệ người trả được nợ và không trả được nợ là (2:1) bằng RandomUnderSampler.\n",
    "3. Chia tập dữ liệu thành 70% Train, 30% Test.\n",
    "4. Huấn luyện mô hình"
   ]
  },
  {
   "cell_type": "code",
   "execution_count": 13,
   "id": "1eab0866",
   "metadata": {},
   "outputs": [
    {
     "data": {
      "text/html": [
       "<style>#sk-container-id-1 {color: black;background-color: white;}#sk-container-id-1 pre{padding: 0;}#sk-container-id-1 div.sk-toggleable {background-color: white;}#sk-container-id-1 label.sk-toggleable__label {cursor: pointer;display: block;width: 100%;margin-bottom: 0;padding: 0.3em;box-sizing: border-box;text-align: center;}#sk-container-id-1 label.sk-toggleable__label-arrow:before {content: \"▸\";float: left;margin-right: 0.25em;color: #696969;}#sk-container-id-1 label.sk-toggleable__label-arrow:hover:before {color: black;}#sk-container-id-1 div.sk-estimator:hover label.sk-toggleable__label-arrow:before {color: black;}#sk-container-id-1 div.sk-toggleable__content {max-height: 0;max-width: 0;overflow: hidden;text-align: left;background-color: #f0f8ff;}#sk-container-id-1 div.sk-toggleable__content pre {margin: 0.2em;color: black;border-radius: 0.25em;background-color: #f0f8ff;}#sk-container-id-1 input.sk-toggleable__control:checked~div.sk-toggleable__content {max-height: 200px;max-width: 100%;overflow: auto;}#sk-container-id-1 input.sk-toggleable__control:checked~label.sk-toggleable__label-arrow:before {content: \"▾\";}#sk-container-id-1 div.sk-estimator input.sk-toggleable__control:checked~label.sk-toggleable__label {background-color: #d4ebff;}#sk-container-id-1 div.sk-label input.sk-toggleable__control:checked~label.sk-toggleable__label {background-color: #d4ebff;}#sk-container-id-1 input.sk-hidden--visually {border: 0;clip: rect(1px 1px 1px 1px);clip: rect(1px, 1px, 1px, 1px);height: 1px;margin: -1px;overflow: hidden;padding: 0;position: absolute;width: 1px;}#sk-container-id-1 div.sk-estimator {font-family: monospace;background-color: #f0f8ff;border: 1px dotted black;border-radius: 0.25em;box-sizing: border-box;margin-bottom: 0.5em;}#sk-container-id-1 div.sk-estimator:hover {background-color: #d4ebff;}#sk-container-id-1 div.sk-parallel-item::after {content: \"\";width: 100%;border-bottom: 1px solid gray;flex-grow: 1;}#sk-container-id-1 div.sk-label:hover label.sk-toggleable__label {background-color: #d4ebff;}#sk-container-id-1 div.sk-serial::before {content: \"\";position: absolute;border-left: 1px solid gray;box-sizing: border-box;top: 0;bottom: 0;left: 50%;z-index: 0;}#sk-container-id-1 div.sk-serial {display: flex;flex-direction: column;align-items: center;background-color: white;padding-right: 0.2em;padding-left: 0.2em;position: relative;}#sk-container-id-1 div.sk-item {position: relative;z-index: 1;}#sk-container-id-1 div.sk-parallel {display: flex;align-items: stretch;justify-content: center;background-color: white;position: relative;}#sk-container-id-1 div.sk-item::before, #sk-container-id-1 div.sk-parallel-item::before {content: \"\";position: absolute;border-left: 1px solid gray;box-sizing: border-box;top: 0;bottom: 0;left: 50%;z-index: -1;}#sk-container-id-1 div.sk-parallel-item {display: flex;flex-direction: column;z-index: 1;position: relative;background-color: white;}#sk-container-id-1 div.sk-parallel-item:first-child::after {align-self: flex-end;width: 50%;}#sk-container-id-1 div.sk-parallel-item:last-child::after {align-self: flex-start;width: 50%;}#sk-container-id-1 div.sk-parallel-item:only-child::after {width: 0;}#sk-container-id-1 div.sk-dashed-wrapped {border: 1px dashed gray;margin: 0 0.4em 0.5em 0.4em;box-sizing: border-box;padding-bottom: 0.4em;background-color: white;}#sk-container-id-1 div.sk-label label {font-family: monospace;font-weight: bold;display: inline-block;line-height: 1.2em;}#sk-container-id-1 div.sk-label-container {text-align: center;}#sk-container-id-1 div.sk-container {/* jupyter's `normalize.less` sets `[hidden] { display: none; }` but bootstrap.min.css set `[hidden] { display: none !important; }` so we also need the `!important` here to be able to override the default hidden behavior on the sphinx rendered scikit-learn.org. See: https://github.com/scikit-learn/scikit-learn/issues/21755 */display: inline-block !important;position: relative;}#sk-container-id-1 div.sk-text-repr-fallback {display: none;}</style><div id=\"sk-container-id-1\" class=\"sk-top-container\"><div class=\"sk-text-repr-fallback\"><pre>LogisticRegression(max_iter=5000)</pre><b>In a Jupyter environment, please rerun this cell to show the HTML representation or trust the notebook. <br />On GitHub, the HTML representation is unable to render, please try loading this page with nbviewer.org.</b></div><div class=\"sk-container\" hidden><div class=\"sk-item\"><div class=\"sk-estimator sk-toggleable\"><input class=\"sk-toggleable__control sk-hidden--visually\" id=\"sk-estimator-id-1\" type=\"checkbox\" checked><label for=\"sk-estimator-id-1\" class=\"sk-toggleable__label sk-toggleable__label-arrow\">LogisticRegression</label><div class=\"sk-toggleable__content\"><pre>LogisticRegression(max_iter=5000)</pre></div></div></div></div></div>"
      ],
      "text/plain": [
       "LogisticRegression(max_iter=5000)"
      ]
     },
     "execution_count": 13,
     "metadata": {},
     "output_type": "execute_result"
    }
   ],
   "source": [
    "rus = RandomUnderSampler(sampling_strategy=0.5, random_state=100) \n",
    "x_resampled, y_resampled = rus.fit_resample(x, y)\n",
    "x_train, x_test, y_train, y_test = train_test_split(x_resampled, y_resampled, test_size=0.3, random_state=150) \n",
    "model = LogisticRegression(max_iter=5000)\n",
    "model.fit(x_train, y_train)"
   ]
  },
  {
   "cell_type": "markdown",
   "id": "22474e9b",
   "metadata": {},
   "source": [
    "## Đánh giá kết quả mô hình"
   ]
  },
  {
   "cell_type": "code",
   "execution_count": 23,
   "id": "fb41d4f8",
   "metadata": {
    "scrolled": true
   },
   "outputs": [
    {
     "name": "stdout",
     "output_type": "stream",
     "text": [
      "Accuracy score: 0.6930575901491495\n",
      "Precision: 0.7107533907775735\n",
      "Confusion matrix:\n",
      "[[ 16555  47365]\n",
      " [ 11513 116388]]\n"
     ]
    }
   ],
   "source": [
    "predictions = model.predict(x_test)\n",
    "print('Accuracy score:', accuracy_score(y_test, predictions))\n",
    "precision = precision_score(y_test, predictions)\n",
    "print(\"Precision:\", precision)\n",
    "print('Confusion matrix:')\n",
    "print(confusion_matrix(y_test, predictions))\n",
    "\n",
    "y_pred_proba = model.predict_proba(x_test)[::,1]\n",
    "fpr, tpr, _ = metrics.roc_curve(y_test,  y_pred_proba)\n",
    "auc = round(metrics.roc_auc_score(y_test, y_pred_proba), 5)"
   ]
  },
  {
   "cell_type": "code",
   "execution_count": 24,
   "id": "75248de2",
   "metadata": {},
   "outputs": [
    {
     "data": {
      "image/png": "[encoded data removed]",
      "text/plain": [
       "<Figure size 640x480 with 1 Axes>"
      ]
     },
     "metadata": {},
     "output_type": "display_data"
    }
   ],
   "source": [
    "plt.plot(fpr,tpr,label=\"data 1, auc=\"+str(auc))\n",
    "plt.plot([0,1],[0,1],color = 'darkblue', linestyle='--')\n",
    "plt.xlabel('1-Specificity')\n",
    "plt.ylabel('Sensitivity')\n",
    "plt.legend(loc=4)\n",
    "plt.show()"
   ]
  },
  {
   "cell_type": "code",
   "execution_count": 25,
   "id": "97a8f463",
   "metadata": {
    "scrolled": true
   },
   "outputs": [
    {
     "name": "stdout",
     "output_type": "stream",
     "text": [
      "                   precision    recall  f1-score   support\n",
      "\n",
      "khong tra duoc no       0.59      0.26      0.36     63920\n",
      "      tra duoc no       0.71      0.91      0.80    127901\n",
      "\n",
      "         accuracy                           0.69    191821\n",
      "        macro avg       0.65      0.58      0.58    191821\n",
      "     weighted avg       0.67      0.69      0.65    191821\n",
      "\n"
     ]
    }
   ],
   "source": [
    "target_names = ['khong tra duoc no', 'tra duoc no']\n",
    "print(classification_report(y_test, predictions, target_names=target_names))"
   ]
  },
  {
   "cell_type": "markdown",
   "id": "df13801b",
   "metadata": {},
   "source": [
    "## Sản phẩm đầu ra"
   ]
  },
  {
   "cell_type": "markdown",
   "id": "41ebe092",
   "metadata": {},
   "source": [
    "1. Lưu lại mô hình vừa huấn luyện"
   ]
  },
  {
   "cell_type": "code",
   "execution_count": 26,
   "id": "97b7e929",
   "metadata": {},
   "outputs": [],
   "source": [
    "filename = 'model2.sav'\n",
    "pickle.dump(model, open(filename, 'wb')) "
   ]
  },
  {
   "cell_type": "markdown",
   "id": "2635d06a",
   "metadata": {},
   "source": [
    "2. Mở lại mô hình vừa lưu để kiểm tra"
   ]
  },
  {
   "cell_type": "code",
   "execution_count": 17,
   "id": "65d98c28",
   "metadata": {},
   "outputs": [
    {
     "data": {
      "text/html": [
       "<style>#sk-container-id-2 {color: black;background-color: white;}#sk-container-id-2 pre{padding: 0;}#sk-container-id-2 div.sk-toggleable {background-color: white;}#sk-container-id-2 label.sk-toggleable__label {cursor: pointer;display: block;width: 100%;margin-bottom: 0;padding: 0.3em;box-sizing: border-box;text-align: center;}#sk-container-id-2 label.sk-toggleable__label-arrow:before {content: \"▸\";float: left;margin-right: 0.25em;color: #696969;}#sk-container-id-2 label.sk-toggleable__label-arrow:hover:before {color: black;}#sk-container-id-2 div.sk-estimator:hover label.sk-toggleable__label-arrow:before {color: black;}#sk-container-id-2 div.sk-toggleable__content {max-height: 0;max-width: 0;overflow: hidden;text-align: left;background-color: #f0f8ff;}#sk-container-id-2 div.sk-toggleable__content pre {margin: 0.2em;color: black;border-radius: 0.25em;background-color: #f0f8ff;}#sk-container-id-2 input.sk-toggleable__control:checked~div.sk-toggleable__content {max-height: 200px;max-width: 100%;overflow: auto;}#sk-container-id-2 input.sk-toggleable__control:checked~label.sk-toggleable__label-arrow:before {content: \"▾\";}#sk-container-id-2 div.sk-estimator input.sk-toggleable__control:checked~label.sk-toggleable__label {background-color: #d4ebff;}#sk-container-id-2 div.sk-label input.sk-toggleable__control:checked~label.sk-toggleable__label {background-color: #d4ebff;}#sk-container-id-2 input.sk-hidden--visually {border: 0;clip: rect(1px 1px 1px 1px);clip: rect(1px, 1px, 1px, 1px);height: 1px;margin: -1px;overflow: hidden;padding: 0;position: absolute;width: 1px;}#sk-container-id-2 div.sk-estimator {font-family: monospace;background-color: #f0f8ff;border: 1px dotted black;border-radius: 0.25em;box-sizing: border-box;margin-bottom: 0.5em;}#sk-container-id-2 div.sk-estimator:hover {background-color: #d4ebff;}#sk-container-id-2 div.sk-parallel-item::after {content: \"\";width: 100%;border-bottom: 1px solid gray;flex-grow: 1;}#sk-container-id-2 div.sk-label:hover label.sk-toggleable__label {background-color: #d4ebff;}#sk-container-id-2 div.sk-serial::before {content: \"\";position: absolute;border-left: 1px solid gray;box-sizing: border-box;top: 0;bottom: 0;left: 50%;z-index: 0;}#sk-container-id-2 div.sk-serial {display: flex;flex-direction: column;align-items: center;background-color: white;padding-right: 0.2em;padding-left: 0.2em;position: relative;}#sk-container-id-2 div.sk-item {position: relative;z-index: 1;}#sk-container-id-2 div.sk-parallel {display: flex;align-items: stretch;justify-content: center;background-color: white;position: relative;}#sk-container-id-2 div.sk-item::before, #sk-container-id-2 div.sk-parallel-item::before {content: \"\";position: absolute;border-left: 1px solid gray;box-sizing: border-box;top: 0;bottom: 0;left: 50%;z-index: -1;}#sk-container-id-2 div.sk-parallel-item {display: flex;flex-direction: column;z-index: 1;position: relative;background-color: white;}#sk-container-id-2 div.sk-parallel-item:first-child::after {align-self: flex-end;width: 50%;}#sk-container-id-2 div.sk-parallel-item:last-child::after {align-self: flex-start;width: 50%;}#sk-container-id-2 div.sk-parallel-item:only-child::after {width: 0;}#sk-container-id-2 div.sk-dashed-wrapped {border: 1px dashed gray;margin: 0 0.4em 0.5em 0.4em;box-sizing: border-box;padding-bottom: 0.4em;background-color: white;}#sk-container-id-2 div.sk-label label {font-family: monospace;font-weight: bold;display: inline-block;line-height: 1.2em;}#sk-container-id-2 div.sk-label-container {text-align: center;}#sk-container-id-2 div.sk-container {/* jupyter's `normalize.less` sets `[hidden] { display: none; }` but bootstrap.min.css set `[hidden] { display: none !important; }` so we also need the `!important` here to be able to override the default hidden behavior on the sphinx rendered scikit-learn.org. See: https://github.com/scikit-learn/scikit-learn/issues/21755 */display: inline-block !important;position: relative;}#sk-container-id-2 div.sk-text-repr-fallback {display: none;}</style><div id=\"sk-container-id-2\" class=\"sk-top-container\"><div class=\"sk-text-repr-fallback\"><pre>LogisticRegression(max_iter=5000)</pre><b>In a Jupyter environment, please rerun this cell to show the HTML representation or trust the notebook. <br />On GitHub, the HTML representation is unable to render, please try loading this page with nbviewer.org.</b></div><div class=\"sk-container\" hidden><div class=\"sk-item\"><div class=\"sk-estimator sk-toggleable\"><input class=\"sk-toggleable__control sk-hidden--visually\" id=\"sk-estimator-id-2\" type=\"checkbox\" checked><label for=\"sk-estimator-id-2\" class=\"sk-toggleable__label sk-toggleable__label-arrow\">LogisticRegression</label><div class=\"sk-toggleable__content\"><pre>LogisticRegression(max_iter=5000)</pre></div></div></div></div></div>"
      ],
      "text/plain": [
       "LogisticRegression(max_iter=5000)"
      ]
     },
     "execution_count": 17,
     "metadata": {},
     "output_type": "execute_result"
    }
   ],
   "source": [
    "loaded_model = pickle.load(open(filename, 'rb'))\n",
    "loaded_model"
   ]
  },
  {
   "cell_type": "markdown",
   "id": "8a589817",
   "metadata": {},
   "source": [
    "Link raw sản phẩm đầu ra: https://colab.research.google.com/drive/1E4T01RVeTQaJ-DiorfeKcaMmrqb51W2z#scrollTo=8E34AMOeId6k"
   ]
  }
 ],
 "metadata": {
  "kernelspec": {
   "display_name": "Python 3 (ipykernel)",
   "language": "python",
   "name": "python3"
  },
  "language_info": {
   "codemirror_mode": {
    "name": "ipython",
    "version": 3
   },
   "file_extension": ".py",
   "mimetype": "text/x-python",
   "name": "python",
   "nbconvert_exporter": "python",
   "pygments_lexer": "ipython3",
   "version": "3.11.5"
  }
 },
 "nbformat": 4,
 "nbformat_minor": 5
}
